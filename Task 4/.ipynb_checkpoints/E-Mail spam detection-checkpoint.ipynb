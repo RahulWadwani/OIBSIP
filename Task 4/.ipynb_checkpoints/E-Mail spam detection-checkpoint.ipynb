{
 "cells": [
  {
   "cell_type": "markdown",
   "id": "932e437d",
   "metadata": {},
   "source": [
    "<div style = \"display: fill;\n",
    "              border-radius: 50px;\n",
    "              background-color: #8d42f5;\">\n",
    "    <h1 style = \"padding: 15px; \n",
    "                 color: White;\n",
    "                 text-align:center;\n",
    "                 font-family: Lucida Console;\">Email Spam Detection</h1>\n",
    "</div>\n",
    "\n",
    "\n",
    "<div style=\"width:100%;text-align: center;\">\n",
    "    <img src=\"https://fluentcrm.com/wp-content/uploads/2020/12/Custom-dimensions-1910x1080-px-5-1.png\" alt=\"Email spam\" style=\"height:350px;margin-top:3rem;\">\n",
    "</div>\n",
    "\n",
    "* **What is Email spam messages?**\n",
    "    * **Unsolicited Messages:** Email spam consists of unsolicited messages sent to a large number of recipients without their prior consent. These messages flood inboxes without the recipients having expressed interest in receiving them.\n",
    "    * **Commercial Promotion:** Spam emails are often used for commercial purposes, promoting products, services, or websites. They aim to advertise or market offerings to a broad audience, potentially generating sales or traffic.\n",
    "    * **Fraudulent and Malicious Intent:** While many spam emails are primarily annoying, some have fraudulent or malicious intent. These may include phishing attempts to steal personal information, distributing malware through attachments or links, or attempting various scams.\n",
    "    * **High Volume:** Spammers send out emails in high volumes, often using automated tools or botnets to reach as many people as possible. The sheer quantity of spam can overload email servers and clutter inboxes.\n",
    "    * **Countermeasures:** To combat email spam, email service providers use spam filters and algorithms to detect and filter out spam messages. Users can also mark emails as spam, helping train these filters. Additionally, legal regulations, such as the CAN-SPAM Act in the United States, aim to reduce the prevalence of spam by imposing rules on commercial email communications.\n",
    "<hr>\n",
    "    \n",
    "* **Who send these Email spam messages?**\n",
    "    * **Marketing Companies:** Some legitimate marketing companies send out promotional emails in large quantities to reach potential customers. While not all marketing emails are spam, those sent without proper consent or that disregard opt-out requests can be considered spam.\n",
    "    * **Scammers:** Individuals or groups with malicious intent send spam emails to deceive recipients. This includes phishing scams aimed at stealing personal information or financial details, such as login credentials or credit card numbers.\n",
    "    * **Affiliate Marketers:** Some individuals engage in affiliate marketing, where they promote products or services and earn a commission for each sale generated through their marketing efforts. Some of these marketers resort to spamming to reach a wider audience.\n",
    "    * **Botnets:** Criminals may hijack networks of infected computers, known as botnets, to send spam. These botnets can churn out vast quantities of spam emails, making it difficult to trace the source.\n",
    "    * **Fraudsters:** Some spam emails are sent by fraudsters who aim to trick recipients into various schemes, such as advance-fee fraud, lottery scams, or fraudulent investment opportunities.\n",
    "<hr>\n",
    "\n",
    "* **what are the consequences faced by the people who get trapped into email spam messages?**\n",
    "    * **Identity Theft and Fraud:** Some spam emails are phishing attempts designed to trick recipients into revealing sensitive personal information, such as usernames, passwords, credit card numbers, or Social Security numbers. Falling victim to such scams can lead to identity theft, financial loss, and fraud.\n",
    "    * **Malware Infections:** Spam emails may contain malicious attachments or links that, when clicked, can install malware on the recipient's computer or device. Malware can compromise data, damage systems, and steal information.\n",
    "    * **Financial Loss:** Spam emails advertising fraudulent products or investment schemes can lead individuals to make financial decisions that result in significant losses. Scammers often promise quick profits or exclusive deals to entice recipients.\n",
    "    * **Privacy Invasion:** Opening spam emails may lead to privacy invasion, as some spammers track email opens and collect information about recipients. This information can be used for targeted advertising or further spamming.\n",
    "    * **Overwhelmed Inbox:** Email spam can flood an individual's inbox, making it challenging to find and respond to legitimate emails. This can lead to missed important communications, productivity loss, and frustration."
   ]
  },
  {
   "cell_type": "markdown",
   "id": "63e52c5f",
   "metadata": {},
   "source": [
    "<div style = \"display: fill;\n",
    "              border-radius: 50px;\n",
    "              background-color: #40E0D0;\">\n",
    "    <h1 style = \"padding: 15px; \n",
    "                 color: White;\n",
    "                 text-align:left;\n",
    "                 font-family: Lucida Console;\">\n",
    "        1. Importing Essential library and Reading the file\n",
    "    </h1>\n",
    "</div>\n"
   ]
  },
  {
   "cell_type": "code",
   "execution_count": 1,
   "id": "ebc45dfa",
   "metadata": {},
   "outputs": [],
   "source": [
    "import pandas as pd \n",
    "import numpy as np \n",
    "import seaborn as sns \n",
    "import matplotlib.pyplot as plt \n",
    "from sklearn.preprocessing import LabelEncoder\n",
    "from sklearn.model_selection import train_test_split\n",
    "from sklearn.feature_extraction.text import CountVectorizer\n",
    "from sklearn.tree import DecisionTreeClassifier\n",
    "from sklearn.naive_bayes import MultinomialNB\n",
    "from sklearn.metrics import accuracy_score, confusion_matrix, classification_report\n",
    "from sklearn.metrics import mean_absolute_error, mean_squared_error"
   ]
  },
  {
   "cell_type": "code",
   "execution_count": 2,
   "id": "55813bd2",
   "metadata": {},
   "outputs": [],
   "source": [
    "df = pd.read_csv('spam.csv',encoding ='latin-1')"
   ]
  },
  {
   "cell_type": "code",
   "execution_count": 3,
   "id": "30491c28",
   "metadata": {},
   "outputs": [
    {
     "data": {
      "text/html": [
       "<div>\n",
       "<style scoped>\n",
       "    .dataframe tbody tr th:only-of-type {\n",
       "        vertical-align: middle;\n",
       "    }\n",
       "\n",
       "    .dataframe tbody tr th {\n",
       "        vertical-align: top;\n",
       "    }\n",
       "\n",
       "    .dataframe thead th {\n",
       "        text-align: right;\n",
       "    }\n",
       "</style>\n",
       "<table border=\"1\" class=\"dataframe\">\n",
       "  <thead>\n",
       "    <tr style=\"text-align: right;\">\n",
       "      <th></th>\n",
       "      <th>v1</th>\n",
       "      <th>v2</th>\n",
       "      <th>Unnamed: 2</th>\n",
       "      <th>Unnamed: 3</th>\n",
       "      <th>Unnamed: 4</th>\n",
       "    </tr>\n",
       "  </thead>\n",
       "  <tbody>\n",
       "    <tr>\n",
       "      <th>0</th>\n",
       "      <td>ham</td>\n",
       "      <td>Go until jurong point, crazy.. Available only ...</td>\n",
       "      <td>NaN</td>\n",
       "      <td>NaN</td>\n",
       "      <td>NaN</td>\n",
       "    </tr>\n",
       "    <tr>\n",
       "      <th>1</th>\n",
       "      <td>ham</td>\n",
       "      <td>Ok lar... Joking wif u oni...</td>\n",
       "      <td>NaN</td>\n",
       "      <td>NaN</td>\n",
       "      <td>NaN</td>\n",
       "    </tr>\n",
       "    <tr>\n",
       "      <th>2</th>\n",
       "      <td>spam</td>\n",
       "      <td>Free entry in 2 a wkly comp to win FA Cup fina...</td>\n",
       "      <td>NaN</td>\n",
       "      <td>NaN</td>\n",
       "      <td>NaN</td>\n",
       "    </tr>\n",
       "    <tr>\n",
       "      <th>3</th>\n",
       "      <td>ham</td>\n",
       "      <td>U dun say so early hor... U c already then say...</td>\n",
       "      <td>NaN</td>\n",
       "      <td>NaN</td>\n",
       "      <td>NaN</td>\n",
       "    </tr>\n",
       "    <tr>\n",
       "      <th>4</th>\n",
       "      <td>ham</td>\n",
       "      <td>Nah I don't think he goes to usf, he lives aro...</td>\n",
       "      <td>NaN</td>\n",
       "      <td>NaN</td>\n",
       "      <td>NaN</td>\n",
       "    </tr>\n",
       "  </tbody>\n",
       "</table>\n",
       "</div>"
      ],
      "text/plain": [
       "     v1                                                 v2 Unnamed: 2  \\\n",
       "0   ham  Go until jurong point, crazy.. Available only ...        NaN   \n",
       "1   ham                      Ok lar... Joking wif u oni...        NaN   \n",
       "2  spam  Free entry in 2 a wkly comp to win FA Cup fina...        NaN   \n",
       "3   ham  U dun say so early hor... U c already then say...        NaN   \n",
       "4   ham  Nah I don't think he goes to usf, he lives aro...        NaN   \n",
       "\n",
       "  Unnamed: 3 Unnamed: 4  \n",
       "0        NaN        NaN  \n",
       "1        NaN        NaN  \n",
       "2        NaN        NaN  \n",
       "3        NaN        NaN  \n",
       "4        NaN        NaN  "
      ]
     },
     "execution_count": 3,
     "metadata": {},
     "output_type": "execute_result"
    }
   ],
   "source": [
    "df.head()"
   ]
  },
  {
   "cell_type": "markdown",
   "id": "c0ca3e4e",
   "metadata": {},
   "source": [
    "<div style = \"display: fill;\n",
    "              border-radius: 50px;\n",
    "              background-color: skyblue;\">\n",
    "    <h2 style = \"padding: 15px; \n",
    "                 color: White;\n",
    "                 text-align:left;\n",
    "                 font-family: Lucida Console;\">\n",
    "        1.1.Preprocessing\n",
    "    </h2>\n",
    "</div>\n"
   ]
  },
  {
   "cell_type": "code",
   "execution_count": 4,
   "id": "49b48383",
   "metadata": {},
   "outputs": [],
   "source": [
    "del df['Unnamed: 2']\n",
    "del df['Unnamed: 3']\n",
    "del df['Unnamed: 4']"
   ]
  },
  {
   "cell_type": "markdown",
   "id": "9f43d905",
   "metadata": {},
   "source": [
    "<div style = \"display: fill;\n",
    "              border-radius: 50px;\n",
    "              background-color: skyblue;\">\n",
    "    <h3 style = \"padding: 15px; \n",
    "                 color: White;\n",
    "                 text-align:left;\n",
    "                 font-family: Lucida Console;\">\n",
    "        1.2 Renaming the columns\n",
    "    </h3>\n",
    "</div>\n"
   ]
  },
  {
   "cell_type": "code",
   "execution_count": 5,
   "id": "1b2059ef",
   "metadata": {},
   "outputs": [],
   "source": [
    "df.columns = ['spam','message']"
   ]
  },
  {
   "cell_type": "markdown",
   "id": "6dcb441e",
   "metadata": {},
   "source": [
    "<div style = \"display: fill;\n",
    "              border-radius: 50px;\n",
    "              background-color: #40E0D0;\">\n",
    "    <h2 style = \"padding: 15px; \n",
    "                 color: White;\n",
    "                 text-align:left;\n",
    "                 font-family: Lucida Console;\">\n",
    "        2. Exploratory Data Analysis\n",
    "    </h2>\n",
    "</div>\n",
    "<div style = \"display: fill;\n",
    "              border-radius: 50px;\n",
    "              background-color: skyblue;\">\n",
    "    <h3 style = \"padding: 15px; \n",
    "                 color: White;\n",
    "                 text-align:left;\n",
    "                 font-family: Lucida Console;\">\n",
    "        2.1 collecting basic information about the dataset\n",
    "    </h3>\n",
    "</div>\n"
   ]
  },
  {
   "cell_type": "code",
   "execution_count": 6,
   "id": "f9b91ccd",
   "metadata": {},
   "outputs": [
    {
     "name": "stdout",
     "output_type": "stream",
     "text": [
      "<class 'pandas.core.frame.DataFrame'>\n",
      "RangeIndex: 5572 entries, 0 to 5571\n",
      "Data columns (total 2 columns):\n",
      " #   Column   Non-Null Count  Dtype \n",
      "---  ------   --------------  ----- \n",
      " 0   spam     5572 non-null   object\n",
      " 1   message  5572 non-null   object\n",
      "dtypes: object(2)\n",
      "memory usage: 87.2+ KB\n"
     ]
    }
   ],
   "source": [
    "df.info()"
   ]
  },
  {
   "cell_type": "markdown",
   "id": "a47a5fc1",
   "metadata": {},
   "source": [
    "<div style = \"display: fill;\n",
    "              border-radius: 50px;\n",
    "              background-color: skyblue;\">\n",
    "    <h3 style = \"padding: 15px; \n",
    "                 color: White;\n",
    "                 text-align:left;\n",
    "                 font-family: Lucida Console;\">\n",
    "        2.2 Mathematical orientation of the dataset \n",
    "    </h3>\n",
    "</div>\n"
   ]
  },
  {
   "cell_type": "code",
   "execution_count": 7,
   "id": "fc19aaf7",
   "metadata": {},
   "outputs": [
    {
     "data": {
      "text/html": [
       "<div>\n",
       "<style scoped>\n",
       "    .dataframe tbody tr th:only-of-type {\n",
       "        vertical-align: middle;\n",
       "    }\n",
       "\n",
       "    .dataframe tbody tr th {\n",
       "        vertical-align: top;\n",
       "    }\n",
       "\n",
       "    .dataframe thead th {\n",
       "        text-align: right;\n",
       "    }\n",
       "</style>\n",
       "<table border=\"1\" class=\"dataframe\">\n",
       "  <thead>\n",
       "    <tr style=\"text-align: right;\">\n",
       "      <th></th>\n",
       "      <th>spam</th>\n",
       "      <th>message</th>\n",
       "    </tr>\n",
       "  </thead>\n",
       "  <tbody>\n",
       "    <tr>\n",
       "      <th>count</th>\n",
       "      <td>5572</td>\n",
       "      <td>5572</td>\n",
       "    </tr>\n",
       "    <tr>\n",
       "      <th>unique</th>\n",
       "      <td>2</td>\n",
       "      <td>5169</td>\n",
       "    </tr>\n",
       "    <tr>\n",
       "      <th>top</th>\n",
       "      <td>ham</td>\n",
       "      <td>Sorry, I'll call later</td>\n",
       "    </tr>\n",
       "    <tr>\n",
       "      <th>freq</th>\n",
       "      <td>4825</td>\n",
       "      <td>30</td>\n",
       "    </tr>\n",
       "  </tbody>\n",
       "</table>\n",
       "</div>"
      ],
      "text/plain": [
       "        spam                 message\n",
       "count   5572                    5572\n",
       "unique     2                    5169\n",
       "top      ham  Sorry, I'll call later\n",
       "freq    4825                      30"
      ]
     },
     "execution_count": 7,
     "metadata": {},
     "output_type": "execute_result"
    }
   ],
   "source": [
    "df.describe()"
   ]
  },
  {
   "cell_type": "markdown",
   "id": "3c189468",
   "metadata": {},
   "source": [
    "<div style = \"display: fill;\n",
    "              border-radius: 50px;\n",
    "              background-color: skyblue;\">\n",
    "    <h3 style = \"padding: 15px; \n",
    "                 color: White;\n",
    "                 text-align:left;\n",
    "                 font-family: Lucida Console;\">\n",
    "        2.3 checking the null values \n",
    "    </h3>\n",
    "</div>\n"
   ]
  },
  {
   "cell_type": "code",
   "execution_count": 8,
   "id": "49670ec2",
   "metadata": {},
   "outputs": [
    {
     "data": {
      "text/plain": [
       "spam       0\n",
       "message    0\n",
       "dtype: int64"
      ]
     },
     "execution_count": 8,
     "metadata": {},
     "output_type": "execute_result"
    }
   ],
   "source": [
    "df.isnull().sum()"
   ]
  },
  {
   "cell_type": "markdown",
   "id": "286f89f4",
   "metadata": {},
   "source": [
    "<div style = \"display: fill;\n",
    "              border-radius: 50px;\n",
    "              background-color: skyblue;\">\n",
    "    <h3 style = \"padding: 15px; \n",
    "                 color: White;\n",
    "                 text-align:left;\n",
    "                 font-family: Lucida Console;\">\n",
    "        2.4 Checking the duplicates \n",
    "    </h3>\n",
    "</div>\n"
   ]
  },
  {
   "cell_type": "code",
   "execution_count": 9,
   "id": "e8232225",
   "metadata": {},
   "outputs": [
    {
     "data": {
      "text/plain": [
       "403"
      ]
     },
     "execution_count": 9,
     "metadata": {},
     "output_type": "execute_result"
    }
   ],
   "source": [
    "df.duplicated().sum()"
   ]
  },
  {
   "cell_type": "markdown",
   "id": "90e3b6c3",
   "metadata": {},
   "source": [
    "<div style = \"display: fill;\n",
    "              border-radius: 50px;\n",
    "              background-color: skyblue;\">\n",
    "    <h3 style = \"padding: 15px; \n",
    "                 color: White;\n",
    "                 text-align:left;\n",
    "                 font-family: Lucida Console;\">\n",
    "        2.5 Dropping the duplicates\n",
    "    </h3>\n",
    "</div>"
   ]
  },
  {
   "cell_type": "code",
   "execution_count": 10,
   "id": "bcc46a19",
   "metadata": {},
   "outputs": [],
   "source": [
    "df = df.drop_duplicates()"
   ]
  },
  {
   "cell_type": "markdown",
   "id": "0d7507a8",
   "metadata": {},
   "source": [
    "<div style = \"display: fill;\n",
    "              border-radius: 50px;\n",
    "              background-color: #40E0D0;\">\n",
    "    <h2 style = \"padding: 15px; \n",
    "                 color: White;\n",
    "                 text-align:left;\n",
    "                 font-family: Lucida Console;\">\n",
    "        3. Data Visualization\n",
    "    </h2>\n",
    "</div>\n",
    "\n",
    "<div style = \"display: fill;\n",
    "              border-radius: 50px;\n",
    "              background-color: skyblue;\">\n",
    "    <h3 style = \"padding: 15px; \n",
    "                 color: White;\n",
    "                 text-align:left;\n",
    "                 font-family: Lucida Console;\">\n",
    "        3.1. Percentage of spam to ham messages\n",
    "    </h3>\n",
    "</div>\n"
   ]
  },
  {
   "cell_type": "code",
   "execution_count": 11,
   "id": "67b105cc",
   "metadata": {},
   "outputs": [
    {
     "data": {
      "image/png": "[encoded data removed]",
      "text/plain": [
       "<Figure size 360x360 with 1 Axes>"
      ]
     },
     "metadata": {},
     "output_type": "display_data"
    }
   ],
   "source": [
    "df['spam'].value_counts().plot(kind = 'pie',autopct ='%0.2f%%',figsize = (5,5),title = 'Pie chart ratio between spam and ham emails')\n",
    "plt.show()"
   ]
  },
  {
   "cell_type": "markdown",
   "id": "a7d9fba5",
   "metadata": {},
   "source": [
    "<div style = \"display: fill;\n",
    "              border-radius: 50px;\n",
    "              background-color: skyblue;\">\n",
    "    <h3 style = \"padding: 15px; \n",
    "                 color: White;\n",
    "                 text-align:left;\n",
    "                 font-family: Lucida Console;\">\n",
    "        3.2. Bar graph of unique words present \n",
    "    </h3>\n",
    "</div>\n"
   ]
  },
  {
   "cell_type": "code",
   "execution_count": 12,
   "id": "2a24e46a",
   "metadata": {},
   "outputs": [
    {
     "data": {
      "image/png": "[encoded data removed]",
      "text/plain": [
       "<Figure size 1440x360 with 1 Axes>"
      ]
     },
     "metadata": {
      "needs_background": "light"
     },
     "output_type": "display_data"
    }
   ],
   "source": [
    "df['message'].apply(lambda x : len(list(set(x.split(' '))))).value_counts().plot(kind = 'bar',figsize = (20,5),title = 'Count of total Length of unique words.')\n",
    "plt.xlabel('Length of words')\n",
    "plt.ylabel('Count')\n",
    "plt.show()"
   ]
  },
  {
   "cell_type": "markdown",
   "id": "85703d74",
   "metadata": {},
   "source": [
    "<div style = \"display: fill;\n",
    "              border-radius: 50px;\n",
    "              background-color: #40E0D0;\">\n",
    "    <h2 style = \"padding: 15px; \n",
    "                 color: White;\n",
    "                 text-align:left;\n",
    "                 font-family: Lucida Console;\">\n",
    "        4. Model Selection \n",
    "    </h2>\n",
    "</div>\n",
    "\n",
    "<div style = \"display: fill;\n",
    "              border-radius: 50px;\n",
    "              background-color: skyblue;\">\n",
    "    <h3 style = \"padding: 15px; \n",
    "                 color: White;\n",
    "                 text-align:left;\n",
    "                 font-family: Lucida Console;\">\n",
    "        4.1. Spliting the dataset into Training and testing \n",
    "    </h3>\n",
    "</div>"
   ]
  },
  {
   "cell_type": "code",
   "execution_count": 13,
   "id": "13f4691a",
   "metadata": {},
   "outputs": [],
   "source": [
    "X = df.drop('spam',axis = 1) \n",
    "y = df['spam']"
   ]
  },
  {
   "cell_type": "code",
   "execution_count": 14,
   "id": "5c299d0c",
   "metadata": {},
   "outputs": [],
   "source": [
    "X_train,X_test, y_train, y_test = train_test_split(X, y, train_size = 0.2, random_state=42)"
   ]
  },
  {
   "cell_type": "markdown",
   "id": "76b12b3f",
   "metadata": {},
   "source": [
    "<div style = \"display: fill;\n",
    "              border-radius: 50px;\n",
    "              background-color: skyblue;\">\n",
    "    <h3 style = \"padding: 15px; \n",
    "                 color: White;\n",
    "                 text-align:left;\n",
    "                 font-family: Lucida Console;\">\n",
    "        4.2. Label Encoding the output column or the spam column\n",
    "    </h3>\n",
    "</div>\n"
   ]
  },
  {
   "cell_type": "code",
   "execution_count": 15,
   "id": "25b5c64d",
   "metadata": {},
   "outputs": [],
   "source": [
    "le = LabelEncoder()"
   ]
  },
  {
   "cell_type": "code",
   "execution_count": 16,
   "id": "1f3b47f0",
   "metadata": {},
   "outputs": [],
   "source": [
    "y_train = le.fit_transform(y_train)\n",
    "y_test  = le.fit_transform(y_test)"
   ]
  },
  {
   "cell_type": "markdown",
   "id": "ed179508",
   "metadata": {},
   "source": [
    "<div style = \"display: fill;\n",
    "              border-radius: 50px;\n",
    "              background-color: #40E0D0;\">\n",
    "    <h2 style = \"padding: 15px; \n",
    "                 color: White;\n",
    "                 text-align:left;\n",
    "                 font-family: Lucida Console;\">\n",
    "        5. Model Preprocesing \n",
    "    </h2>\n",
    "</div>\n",
    "<div style = \"display: fill;\n",
    "              border-radius: 50px;\n",
    "              background-color: skyblue;\">\n",
    "    <h3 style = \"padding: 15px; \n",
    "                 color: White;\n",
    "                 text-align:left;\n",
    "                 font-family: Lucida Console;\">\n",
    "        5.1. Transforming text to vector based on frequency of each occuring text/words\n",
    "    </h3>\n",
    "</div>"
   ]
  },
  {
   "cell_type": "code",
   "execution_count": 17,
   "id": "30c1bbeb",
   "metadata": {},
   "outputs": [],
   "source": [
    "# Create a CountVectorizer instance\n",
    "vect = CountVectorizer()"
   ]
  },
  {
   "cell_type": "code",
   "execution_count": 18,
   "id": "bbf81324",
   "metadata": {},
   "outputs": [],
   "source": [
    "# Fit and transform the training data (X_train)\n",
    "X_train_vect = vect.fit_transform(X_train['message'])\n",
    "\n",
    "# Transform the test data (X_test)\n",
    "X_test_vect = vect.transform(X_test['message'])"
   ]
  },
  {
   "cell_type": "markdown",
   "id": "f01269c2",
   "metadata": {},
   "source": [
    "<div style = \"display: fill;\n",
    "              border-radius: 50px;\n",
    "              background-color: #40E0D0;\">\n",
    "    <h2 style = \"padding: 15px; \n",
    "                 color: White;\n",
    "                 text-align:left;\n",
    "                 font-family: Lucida Console;\">\n",
    "        6. Model Training\n",
    "    </h2>\n",
    "</div>\n",
    "<div style = \"display: fill;\n",
    "              border-radius: 50px;\n",
    "              background-color: skyblue;\">\n",
    "    <h3 style = \"padding: 15px; \n",
    "                 color: White;\n",
    "                 text-align:left;\n",
    "                 font-family: Lucida Console;\">\n",
    "        6.1. Decision Tree\n",
    "    </h3>\n",
    "</div>\n",
    "\n"
   ]
  },
  {
   "cell_type": "code",
   "execution_count": 19,
   "id": "ee20c61c",
   "metadata": {},
   "outputs": [
    {
     "data": {
      "text/html": [
       "<style>#sk-container-id-1 {color: black;background-color: white;}#sk-container-id-1 pre{padding: 0;}#sk-container-id-1 div.sk-toggleable {background-color: white;}#sk-container-id-1 label.sk-toggleable__label {cursor: pointer;display: block;width: 100%;margin-bottom: 0;padding: 0.3em;box-sizing: border-box;text-align: center;}#sk-container-id-1 label.sk-toggleable__label-arrow:before {content: \"▸\";float: left;margin-right: 0.25em;color: #696969;}#sk-container-id-1 label.sk-toggleable__label-arrow:hover:before {color: black;}#sk-container-id-1 div.sk-estimator:hover label.sk-toggleable__label-arrow:before {color: black;}#sk-container-id-1 div.sk-toggleable__content {max-height: 0;max-width: 0;overflow: hidden;text-align: left;background-color: #f0f8ff;}#sk-container-id-1 div.sk-toggleable__content pre {margin: 0.2em;color: black;border-radius: 0.25em;background-color: #f0f8ff;}#sk-container-id-1 input.sk-toggleable__control:checked~div.sk-toggleable__content {max-height: 200px;max-width: 100%;overflow: auto;}#sk-container-id-1 input.sk-toggleable__control:checked~label.sk-toggleable__label-arrow:before {content: \"▾\";}#sk-container-id-1 div.sk-estimator input.sk-toggleable__control:checked~label.sk-toggleable__label {background-color: #d4ebff;}#sk-container-id-1 div.sk-label input.sk-toggleable__control:checked~label.sk-toggleable__label {background-color: #d4ebff;}#sk-container-id-1 input.sk-hidden--visually {border: 0;clip: rect(1px 1px 1px 1px);clip: rect(1px, 1px, 1px, 1px);height: 1px;margin: -1px;overflow: hidden;padding: 0;position: absolute;width: 1px;}#sk-container-id-1 div.sk-estimator {font-family: monospace;background-color: #f0f8ff;border: 1px dotted black;border-radius: 0.25em;box-sizing: border-box;margin-bottom: 0.5em;}#sk-container-id-1 div.sk-estimator:hover {background-color: #d4ebff;}#sk-container-id-1 div.sk-parallel-item::after {content: \"\";width: 100%;border-bottom: 1px solid gray;flex-grow: 1;}#sk-container-id-1 div.sk-label:hover label.sk-toggleable__label {background-color: #d4ebff;}#sk-container-id-1 div.sk-serial::before {content: \"\";position: absolute;border-left: 1px solid gray;box-sizing: border-box;top: 0;bottom: 0;left: 50%;z-index: 0;}#sk-container-id-1 div.sk-serial {display: flex;flex-direction: column;align-items: center;background-color: white;padding-right: 0.2em;padding-left: 0.2em;position: relative;}#sk-container-id-1 div.sk-item {position: relative;z-index: 1;}#sk-container-id-1 div.sk-parallel {display: flex;align-items: stretch;justify-content: center;background-color: white;position: relative;}#sk-container-id-1 div.sk-item::before, #sk-container-id-1 div.sk-parallel-item::before {content: \"\";position: absolute;border-left: 1px solid gray;box-sizing: border-box;top: 0;bottom: 0;left: 50%;z-index: -1;}#sk-container-id-1 div.sk-parallel-item {display: flex;flex-direction: column;z-index: 1;position: relative;background-color: white;}#sk-container-id-1 div.sk-parallel-item:first-child::after {align-self: flex-end;width: 50%;}#sk-container-id-1 div.sk-parallel-item:last-child::after {align-self: flex-start;width: 50%;}#sk-container-id-1 div.sk-parallel-item:only-child::after {width: 0;}#sk-container-id-1 div.sk-dashed-wrapped {border: 1px dashed gray;margin: 0 0.4em 0.5em 0.4em;box-sizing: border-box;padding-bottom: 0.4em;background-color: white;}#sk-container-id-1 div.sk-label label {font-family: monospace;font-weight: bold;display: inline-block;line-height: 1.2em;}#sk-container-id-1 div.sk-label-container {text-align: center;}#sk-container-id-1 div.sk-container {/* jupyter's `normalize.less` sets `[hidden] { display: none; }` but bootstrap.min.css set `[hidden] { display: none !important; }` so we also need the `!important` here to be able to override the default hidden behavior on the sphinx rendered scikit-learn.org. See: https://github.com/scikit-learn/scikit-learn/issues/21755 */display: inline-block !important;position: relative;}#sk-container-id-1 div.sk-text-repr-fallback {display: none;}</style><div id=\"sk-container-id-1\" class=\"sk-top-container\"><div class=\"sk-text-repr-fallback\"><pre>DecisionTreeClassifier()</pre><b>In a Jupyter environment, please rerun this cell to show the HTML representation or trust the notebook. <br />On GitHub, the HTML representation is unable to render, please try loading this page with nbviewer.org.</b></div><div class=\"sk-container\" hidden><div class=\"sk-item\"><div class=\"sk-estimator sk-toggleable\"><input class=\"sk-toggleable__control sk-hidden--visually\" id=\"sk-estimator-id-1\" type=\"checkbox\" checked><label for=\"sk-estimator-id-1\" class=\"sk-toggleable__label sk-toggleable__label-arrow\">DecisionTreeClassifier</label><div class=\"sk-toggleable__content\"><pre>DecisionTreeClassifier()</pre></div></div></div></div></div>"
      ],
      "text/plain": [
       "DecisionTreeClassifier()"
      ]
     },
     "execution_count": 19,
     "metadata": {},
     "output_type": "execute_result"
    }
   ],
   "source": [
    "# Train the Decision Tree Classifier\n",
    "classifier = DecisionTreeClassifier()\n",
    "classifier.fit(X_train_vect, y_train)"
   ]
  },
  {
   "cell_type": "code",
   "execution_count": 20,
   "id": "1f016a50",
   "metadata": {},
   "outputs": [],
   "source": [
    "# Make predictions on the test data\n",
    "y_pred_dt = classifier.predict(X_test_vect)"
   ]
  },
  {
   "cell_type": "markdown",
   "id": "531c705f",
   "metadata": {},
   "source": [
    "</div>\n",
    "<div style = \"display: fill;\n",
    "              border-radius: 50px;\n",
    "              background-color: skyblue;\">\n",
    "    <h3 style = \"padding: 15px; \n",
    "                 color: White;\n",
    "                 text-align:left;\n",
    "                 font-family: Lucida Console;\">\n",
    "        6.2. Multinomial Naive bayes \n",
    "    </h3>\n",
    "</div>\n"
   ]
  },
  {
   "cell_type": "code",
   "execution_count": 21,
   "id": "0500c9a0",
   "metadata": {},
   "outputs": [
    {
     "data": {
      "text/html": [
       "<style>#sk-container-id-2 {color: black;background-color: white;}#sk-container-id-2 pre{padding: 0;}#sk-container-id-2 div.sk-toggleable {background-color: white;}#sk-container-id-2 label.sk-toggleable__label {cursor: pointer;display: block;width: 100%;margin-bottom: 0;padding: 0.3em;box-sizing: border-box;text-align: center;}#sk-container-id-2 label.sk-toggleable__label-arrow:before {content: \"▸\";float: left;margin-right: 0.25em;color: #696969;}#sk-container-id-2 label.sk-toggleable__label-arrow:hover:before {color: black;}#sk-container-id-2 div.sk-estimator:hover label.sk-toggleable__label-arrow:before {color: black;}#sk-container-id-2 div.sk-toggleable__content {max-height: 0;max-width: 0;overflow: hidden;text-align: left;background-color: #f0f8ff;}#sk-container-id-2 div.sk-toggleable__content pre {margin: 0.2em;color: black;border-radius: 0.25em;background-color: #f0f8ff;}#sk-container-id-2 input.sk-toggleable__control:checked~div.sk-toggleable__content {max-height: 200px;max-width: 100%;overflow: auto;}#sk-container-id-2 input.sk-toggleable__control:checked~label.sk-toggleable__label-arrow:before {content: \"▾\";}#sk-container-id-2 div.sk-estimator input.sk-toggleable__control:checked~label.sk-toggleable__label {background-color: #d4ebff;}#sk-container-id-2 div.sk-label input.sk-toggleable__control:checked~label.sk-toggleable__label {background-color: #d4ebff;}#sk-container-id-2 input.sk-hidden--visually {border: 0;clip: rect(1px 1px 1px 1px);clip: rect(1px, 1px, 1px, 1px);height: 1px;margin: -1px;overflow: hidden;padding: 0;position: absolute;width: 1px;}#sk-container-id-2 div.sk-estimator {font-family: monospace;background-color: #f0f8ff;border: 1px dotted black;border-radius: 0.25em;box-sizing: border-box;margin-bottom: 0.5em;}#sk-container-id-2 div.sk-estimator:hover {background-color: #d4ebff;}#sk-container-id-2 div.sk-parallel-item::after {content: \"\";width: 100%;border-bottom: 1px solid gray;flex-grow: 1;}#sk-container-id-2 div.sk-label:hover label.sk-toggleable__label {background-color: #d4ebff;}#sk-container-id-2 div.sk-serial::before {content: \"\";position: absolute;border-left: 1px solid gray;box-sizing: border-box;top: 0;bottom: 0;left: 50%;z-index: 0;}#sk-container-id-2 div.sk-serial {display: flex;flex-direction: column;align-items: center;background-color: white;padding-right: 0.2em;padding-left: 0.2em;position: relative;}#sk-container-id-2 div.sk-item {position: relative;z-index: 1;}#sk-container-id-2 div.sk-parallel {display: flex;align-items: stretch;justify-content: center;background-color: white;position: relative;}#sk-container-id-2 div.sk-item::before, #sk-container-id-2 div.sk-parallel-item::before {content: \"\";position: absolute;border-left: 1px solid gray;box-sizing: border-box;top: 0;bottom: 0;left: 50%;z-index: -1;}#sk-container-id-2 div.sk-parallel-item {display: flex;flex-direction: column;z-index: 1;position: relative;background-color: white;}#sk-container-id-2 div.sk-parallel-item:first-child::after {align-self: flex-end;width: 50%;}#sk-container-id-2 div.sk-parallel-item:last-child::after {align-self: flex-start;width: 50%;}#sk-container-id-2 div.sk-parallel-item:only-child::after {width: 0;}#sk-container-id-2 div.sk-dashed-wrapped {border: 1px dashed gray;margin: 0 0.4em 0.5em 0.4em;box-sizing: border-box;padding-bottom: 0.4em;background-color: white;}#sk-container-id-2 div.sk-label label {font-family: monospace;font-weight: bold;display: inline-block;line-height: 1.2em;}#sk-container-id-2 div.sk-label-container {text-align: center;}#sk-container-id-2 div.sk-container {/* jupyter's `normalize.less` sets `[hidden] { display: none; }` but bootstrap.min.css set `[hidden] { display: none !important; }` so we also need the `!important` here to be able to override the default hidden behavior on the sphinx rendered scikit-learn.org. See: https://github.com/scikit-learn/scikit-learn/issues/21755 */display: inline-block !important;position: relative;}#sk-container-id-2 div.sk-text-repr-fallback {display: none;}</style><div id=\"sk-container-id-2\" class=\"sk-top-container\"><div class=\"sk-text-repr-fallback\"><pre>MultinomialNB()</pre><b>In a Jupyter environment, please rerun this cell to show the HTML representation or trust the notebook. <br />On GitHub, the HTML representation is unable to render, please try loading this page with nbviewer.org.</b></div><div class=\"sk-container\" hidden><div class=\"sk-item\"><div class=\"sk-estimator sk-toggleable\"><input class=\"sk-toggleable__control sk-hidden--visually\" id=\"sk-estimator-id-2\" type=\"checkbox\" checked><label for=\"sk-estimator-id-2\" class=\"sk-toggleable__label sk-toggleable__label-arrow\">MultinomialNB</label><div class=\"sk-toggleable__content\"><pre>MultinomialNB()</pre></div></div></div></div></div>"
      ],
      "text/plain": [
       "MultinomialNB()"
      ]
     },
     "execution_count": 21,
     "metadata": {},
     "output_type": "execute_result"
    }
   ],
   "source": [
    "# Train the Multinomial Naive Bayes classifier\n",
    "classifier = MultinomialNB()\n",
    "classifier.fit(X_train_vect, y_train)"
   ]
  },
  {
   "cell_type": "code",
   "execution_count": 22,
   "id": "eb93b8cc",
   "metadata": {},
   "outputs": [],
   "source": [
    "# Make predictions on the test data\n",
    "y_pred_nb = classifier.predict(X_test_vect)"
   ]
  },
  {
   "cell_type": "markdown",
   "id": "218d9f21",
   "metadata": {},
   "source": [
    "</div>\n",
    "<div style = \"display: fill;\n",
    "              border-radius: 50px;\n",
    "              background-color: #40E0D0;\">\n",
    "    <h2 style = \"padding: 15px; \n",
    "                 color: White;\n",
    "                 text-align:left;\n",
    "                 font-family: Lucida Console;\">\n",
    "        7. Model Testing\n",
    "    </h2>\n",
    "</div>\n",
    "</div>\n",
    "<div style = \"display: fill;\n",
    "              border-radius: 50px;\n",
    "              background-color: skyblue;\">\n",
    "    <h3 style = \"padding: 15px; \n",
    "                 color: White;\n",
    "                 text-align:left;\n",
    "                 font-family: Lucida Console;\">\n",
    "        7.1. Decision Tree Classification report\n",
    "    </h3>\n",
    "</div>\n",
    "\n"
   ]
  },
  {
   "cell_type": "code",
   "execution_count": 23,
   "id": "beb99568",
   "metadata": {},
   "outputs": [
    {
     "name": "stdout",
     "output_type": "stream",
     "text": [
      "              precision    recall  f1-score   support\n",
      "\n",
      "           0       0.96      0.97      0.97      3600\n",
      "           1       0.79      0.76      0.77       536\n",
      "\n",
      "    accuracy                           0.94      4136\n",
      "   macro avg       0.88      0.86      0.87      4136\n",
      "weighted avg       0.94      0.94      0.94      4136\n",
      "\n"
     ]
    }
   ],
   "source": [
    "print(classification_report(y_test, y_pred_dt))"
   ]
  },
  {
   "cell_type": "code",
   "execution_count": 24,
   "id": "38fe0137",
   "metadata": {},
   "outputs": [
    {
     "data": {
      "text/plain": [
       "<AxesSubplot:>"
      ]
     },
     "execution_count": 24,
     "metadata": {},
     "output_type": "execute_result"
    },
    {
     "data": {
      "image/png": "[encoded data removed]",
      "text/plain": [
       "<Figure size 432x288 with 2 Axes>"
      ]
     },
     "metadata": {
      "needs_background": "light"
     },
     "output_type": "display_data"
    }
   ],
   "source": [
    "sns.heatmap(confusion_matrix(y_test,y_pred_dt),annot=True)"
   ]
  },
  {
   "cell_type": "code",
   "execution_count": 25,
   "id": "b5f2729e",
   "metadata": {},
   "outputs": [
    {
     "name": "stdout",
     "output_type": "stream",
     "text": [
      "Mean Absolute Error     :  0.0577852998065764\n",
      "Mean Squared Error      :  0.0577852998065764\n",
      "Root Mean Squared Error :  0.24038573128739651\n"
     ]
    }
   ],
   "source": [
    "print('Mean Absolute Error     : ',mean_absolute_error(y_test,y_pred_dt))\n",
    "print('Mean Squared Error      : ',mean_squared_error(y_test,y_pred_dt))\n",
    "print('Root Mean Squared Error : ',np.sqrt(mean_squared_error(y_test,y_pred_dt)))"
   ]
  },
  {
   "cell_type": "code",
   "execution_count": 29,
   "id": "986437a4",
   "metadata": {},
   "outputs": [],
   "source": [
    "# Note \n",
    "# Decision Tree Model is more error prone as well as the model overfits so checking different model would be much better"
   ]
  },
  {
   "cell_type": "markdown",
   "id": "0c450d13",
   "metadata": {},
   "source": [
    "<div style = \"display: fill;\n",
    "              border-radius: 50px;\n",
    "              background-color: skyblue;\">\n",
    "    <h3 style = \"padding: 15px; \n",
    "                 color: White;\n",
    "                 text-align:left;\n",
    "                 font-family: Lucida Console;\">\n",
    "        7.2. Multinomial Naive bayes Classification report\n",
    "    </h3>\n",
    "</div>"
   ]
  },
  {
   "cell_type": "code",
   "execution_count": 26,
   "id": "f79dccb8",
   "metadata": {},
   "outputs": [
    {
     "name": "stdout",
     "output_type": "stream",
     "text": [
      "              precision    recall  f1-score   support\n",
      "\n",
      "           0       0.98      1.00      0.99      3600\n",
      "           1       0.98      0.85      0.91       536\n",
      "\n",
      "    accuracy                           0.98      4136\n",
      "   macro avg       0.98      0.92      0.95      4136\n",
      "weighted avg       0.98      0.98      0.98      4136\n",
      "\n"
     ]
    }
   ],
   "source": [
    "print(classification_report(y_test, y_pred_nb))"
   ]
  },
  {
   "cell_type": "code",
   "execution_count": 27,
   "id": "b46aa46c",
   "metadata": {},
   "outputs": [
    {
     "data": {
      "text/plain": [
       "<AxesSubplot:>"
      ]
     },
     "execution_count": 27,
     "metadata": {},
     "output_type": "execute_result"
    },
    {
     "data": {
      "image/png": "[encoded data removed]",
      "text/plain": [
       "<Figure size 432x288 with 2 Axes>"
      ]
     },
     "metadata": {
      "needs_background": "light"
     },
     "output_type": "display_data"
    }
   ],
   "source": [
    "sns.heatmap(confusion_matrix(y_test,y_pred_nb),annot=True)"
   ]
  },
  {
   "cell_type": "code",
   "execution_count": 28,
   "id": "5ffefae6",
   "metadata": {},
   "outputs": [
    {
     "name": "stdout",
     "output_type": "stream",
     "text": [
      "Mean Absolute Error     :  0.02127659574468085\n",
      "Mean Squared Error      :  0.02127659574468085\n",
      "Root Mean Squared Error :  0.14586499149789456\n"
     ]
    }
   ],
   "source": [
    "print('Mean Absolute Error     : ',mean_absolute_error(y_test,y_pred_nb))\n",
    "print('Mean Squared Error      : ',mean_squared_error(y_test,y_pred_nb))\n",
    "print('Root Mean Squared Error : ',np.sqrt(mean_squared_error(y_test,y_pred_nb)))"
   ]
  },
  {
   "cell_type": "code",
   "execution_count": null,
   "id": "1aea0e82",
   "metadata": {},
   "outputs": [],
   "source": [
    "# on Comparing 2 Model multinomial naive bayes outperformed decision trees by 4 percent Hence Multinomial Naive bayes\n",
    "# is the best algorithm to be used over here "
   ]
  }
 ],
 "metadata": {
  "kernelspec": {
   "display_name": "Python 3 (ipykernel)",
   "language": "python",
   "name": "python3"
  },
  "language_info": {
   "codemirror_mode": {
    "name": "ipython",
    "version": 3
   },
   "file_extension": ".py",
   "mimetype": "text/x-python",
   "name": "python",
   "nbconvert_exporter": "python",
   "pygments_lexer": "ipython3",
   "version": "3.10.12"
  }
 },
 "nbformat": 4,
 "nbformat_minor": 5
}
